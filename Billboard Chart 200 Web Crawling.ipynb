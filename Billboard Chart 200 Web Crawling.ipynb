{
 "cells": [
  {
   "cell_type": "code",
   "execution_count": 2,
   "metadata": {},
   "outputs": [],
   "source": [
    "from selenium import webdriver\n",
    "import requests\n",
    "from bs4 import BeautifulSoup\n",
    "import lxml\n",
    "import sqlite3 as lite\n",
    "import pandas as pd\n",
    "# from pymongo import MongoClient"
   ]
  },
  {
   "cell_type": "markdown",
   "metadata": {},
   "source": [
    "# Web Scraping BillBoard 200 2017-2018"
   ]
  },
  {
   "cell_type": "markdown",
   "metadata": {},
   "source": [
    "## With Selenium"
   ]
  },
  {
   "cell_type": "code",
   "execution_count": 2,
   "metadata": {},
   "outputs": [],
   "source": [
    "ch_driver = webdriver.Chrome('C:/Users/beave/AppData/Roaming/Microsoft/Windows/Start Menu/Programs/Python 3.7/chromedriver.exe')"
   ]
  },
  {
   "cell_type": "code",
   "execution_count": 3,
   "metadata": {},
   "outputs": [],
   "source": [
    "date = '2019-01-19'\n",
    "billboard_url = 'https://www.billboard.com/charts/billboard-200/'\n",
    "ch_driver.get(billboard_url + date)"
   ]
  },
  {
   "cell_type": "code",
   "execution_count": 6,
   "metadata": {},
   "outputs": [
    {
     "name": "stdout",
     "output_type": "stream",
     "text": [
      "1 Hoodie SZN A Boogie Wit da Hoodie\n"
     ]
    }
   ],
   "source": [
    "# for first song\n",
    "first_song = ch_driver.find_element_by_class_name('chart-number-one__details')\n",
    "rank = '1'\n",
    "title = first_song.find_element_by_class_name('chart-number-one__title').text\n",
    "artist = first_song.find_element_by_class_name('chart-number-one__artist').text\n",
    "print(rank, title, artist)"
   ]
  },
  {
   "cell_type": "code",
   "execution_count": 7,
   "metadata": {},
   "outputs": [
    {
     "name": "stdout",
     "output_type": "stream",
     "text": [
      "2 I Am > I Was 21 Savage\n"
     ]
    }
   ],
   "source": [
    "# for the rest\n",
    "chart_list = ch_driver.find_elements_by_class_name('chart-list-item')\n",
    "rank = chart_list[0].get_attribute('data-rank')\n",
    "title = chart_list[0].get_attribute('data-title')\n",
    "artist = chart_list[0].get_attribute('data-artist')\n",
    "\n",
    "print(rank, title, artist)"
   ]
  },
  {
   "cell_type": "code",
   "execution_count": 9,
   "metadata": {},
   "outputs": [
    {
     "data": {
      "text/plain": [
       "[['1', 'Hoodie SZN', 'A Boogie Wit da Hoodie'],\n",
       " ['2', 'I Am > I Was', '21 Savage'],\n",
       " ['3', 'Spider-Man: Into The Spider-Verse', 'Soundtrack'],\n",
       " ['4', 'Championships', 'Meek Mill'],\n",
       " ['5', 'beerbongs & bentleys', 'Post Malone'],\n",
       " ['6', 'ASTROWORLD', 'Travis Scott'],\n",
       " ['7', 'A Star Is Born (Soundtrack)', 'Lady Gaga & Bradley Cooper'],\n",
       " ['8', 'Scorpion', 'Drake'],\n",
       " ['9', 'Dying To Live', 'Kodak Black'],\n",
       " ['10', 'Greatest Hits I II & III: The Platinum Collection', 'Queen'],\n",
       " ['11', 'The Greatest Showman', 'Soundtrack'],\n",
       " ['12', 'X 100PRE', 'Bad Bunny'],\n",
       " ['13', 'Goodbye & Good Riddance', 'Juice WRLD'],\n",
       " ['14', 'Invasion Of Privacy', 'Cardi B'],\n",
       " ['15', 'Realer', 'YoungBoy Never Broke Again'],\n",
       " ['16', 'Drip Harder', 'Lil Baby & Gunna'],\n",
       " ['17', \"This One's For You\", 'Luke Combs'],\n",
       " ['18', 'Sweetener', 'Ariana Grande'],\n",
       " ['19', 'Dont Smile At Me', 'Billie Eilish'],\n",
       " ['20', '?', 'XXXTENTACION'],\n",
       " ['21', 'Street Gossip', 'Lil Baby'],\n",
       " ['22', 'Origins', 'Imagine Dragons'],\n",
       " ['23', 'Stoney', 'Post Malone'],\n",
       " ['24', 'Tha Carter V', 'Lil Wayne'],\n",
       " ['25', 'DUMMY BOY', '6ix9ine'],\n",
       " ['26', 'Pray For The Wicked', 'Panic! At The Disco'],\n",
       " ['27', 'reputation', 'Taylor Swift'],\n",
       " ['28', '÷ (Divide)', 'Ed Sheeran'],\n",
       " ['29', 'Dan + Shay', 'Dan + Shay'],\n",
       " ['30', 'Hamilton: An American Musical', 'Original Broadway Cast Recording'],\n",
       " ['31', 'Evolve', 'Imagine Dragons'],\n",
       " ['32', 'Ella Mai', 'Ella Mai'],\n",
       " ['33', 'Skins', 'XXXTENTACION'],\n",
       " ['34', 'Not All Heroes Wear Capes', 'Metro Boomin'],\n",
       " ['35', 'Evil Genius', 'Gucci Mane'],\n",
       " ['36', 'Look Up Child', 'Lauren Daigle'],\n",
       " ['37', 'Kamikaze', 'Eminem'],\n",
       " ['38', 'STOKELEY', 'Ski Mask The Slump God'],\n",
       " ['39', 'A Love Letter To You 3', 'Trippie Redd'],\n",
       " ['40', 'Suncity', 'Khalid'],\n",
       " ['41', 'FRIENDS KEEP SECRETS (EP)', 'Benny Blanco'],\n",
       " ['42', 'American Teen', 'Khalid'],\n",
       " ['43', '17', 'XXXTENTACION'],\n",
       " ['44', 'Cosmic', 'Bazzi'],\n",
       " ['45', 'Mary Poppins Returns', 'Soundtrack'],\n",
       " ['46', 'Queen', 'Nicki Minaj'],\n",
       " ['47', 'Experiment', 'Kane Brown'],\n",
       " ['48', 'Shawn Mendes', 'Shawn Mendes'],\n",
       " ['49', 'Culture II', 'Migos'],\n",
       " ['50', \"Journey's Greatest Hits\", 'Journey'],\n",
       " ['51', 'Camila', 'Camila Cabello'],\n",
       " ['52', 'Future & Juice WRLD Present... WRLD ON DRUGS', 'Future & Juice WRLD'],\n",
       " ['53', 'DAMN.', 'Kendrick Lamar'],\n",
       " ['54', 'Traveller', 'Chris Stapleton'],\n",
       " ['55', 'The Very Best Of Daryl Hall  John Oates', 'Daryl Hall John Oates'],\n",
       " ['56', 'Harder Than Ever', 'Lil Baby'],\n",
       " ['57', 'Trench', 'twenty one pilots'],\n",
       " ['58', 'Youngblood', '5 Seconds Of Summer'],\n",
       " ['59', 'Life Changes', 'Thomas Rhett'],\n",
       " ['60', 'Night Visions', 'Imagine Dragons'],\n",
       " ['61', 'Mudboy', 'Sheck Wes'],\n",
       " ['62', 'Luv Is Rage 2', 'Lil Uzi Vert'],\n",
       " ['63', 'LoVE me NOw?', 'Tory Lanez'],\n",
       " ['64', 'Expectations', 'Bebe Rexha'],\n",
       " ['65', 'Swimming', 'Mac Miller'],\n",
       " ['66', 'Curtain Call: The Hits', 'Eminem'],\n",
       " ['67', 'Kane Brown', 'Kane Brown'],\n",
       " ['68', 'Diamonds', 'Elton John'],\n",
       " ['69', 'Rumours', 'Fleetwood Mac'],\n",
       " ['70', 'Red Pill Blues', 'Maroon 5'],\n",
       " ['71', 'Perception', 'NF'],\n",
       " ['72', 'Legend: The Best Of...', 'Bob Marley And The Wailers'],\n",
       " ['73', 'Take Care', 'Drake'],\n",
       " ['74', 'H.E.R.', 'H.E.R.'],\n",
       " ['75', 'Views', 'Drake'],\n",
       " ['76', 'Bohemian Rhapsody (Soundtrack)', 'Queen'],\n",
       " ['77', 'Greatest Hits', 'Tom Petty And The Heartbreakers'],\n",
       " ['78', 'Love Yourself: Answer', 'BTS'],\n",
       " ['79', '1989', 'Taylor Swift'],\n",
       " ['80', 'KOD', 'J. Cole'],\n",
       " ['81', 'Moana', 'Soundtrack'],\n",
       " ['82', 'Rearview Town', 'Jason Aldean'],\n",
       " ['83', 'x', 'Ed Sheeran'],\n",
       " ['84', 'Luca Brasi 3', 'Kevin Gates'],\n",
       " ['85', 'The Essential Billy Joel', 'Billy Joel'],\n",
       " ['86', \"Life's A Trip\", 'Trippie Redd'],\n",
       " ['87', 'Ctrl', 'SZA'],\n",
       " ['88', 'Telling All My Secrets', 'Mitchell Tenpenny'],\n",
       " ['89', 'Quavo Huncho', 'Quavo'],\n",
       " ['90', 'Black Panther: The Album, Music From And Inspired By', 'Soundtrack'],\n",
       " ['91', 'More Life', 'Drake'],\n",
       " ['92', 'Dua Lipa', 'Dua Lipa'],\n",
       " ['93', 'hopeless fountain kingdom', 'Halsey'],\n",
       " ['94', 'Starboy', 'The Weeknd'],\n",
       " ['95', 'Until Death Call My Name', 'YoungBoy Never Broke Again'],\n",
       " ['96', 'Greatest Hits', '2Pac'],\n",
       " ['97', 'Greatest Hits', 'Bob Seger & The Silver Bullet Band'],\n",
       " ['98', 'The Essential Michael Jackson', 'Michael Jackson'],\n",
       " ['99', 'Brett Young', 'Brett Young'],\n",
       " ['100', '24K Magic', 'Bruno Mars'],\n",
       " ['101', 'Their Greatest Hits 1971-1975', 'Eagles'],\n",
       " ['102', 'Sick Boy', 'The Chainsmokers'],\n",
       " ['103', 'East Atlanta Love Letter', '6LACK'],\n",
       " ['104',\n",
       "  'Chronicle The 20 Greatest Hits',\n",
       "  'Creedence Clearwater Revival Featuring John Fogerty'],\n",
       " ['105', 'Greatest Hits', 'Red Hot Chili Peppers'],\n",
       " ['106', 'Delta', 'Mumford & Sons'],\n",
       " ['107', 'Aura', 'Ozuna'],\n",
       " ['108', 'Northsbest', 'Lil Mosey'],\n",
       " ['109', 'Life Of A Dark Rose', 'Lil Skies'],\n",
       " ['110', 'Heartbreak On A Full Moon', 'Chris Brown'],\n",
       " ['111', '2014 Forest Hills Drive', 'J. Cole'],\n",
       " ['112', 'Ultimate Dolly Parton', 'Dolly Parton'],\n",
       " ['113',\n",
       "  '4Respect 4Freedom 4Loyalty 4WhatImportant',\n",
       "  'YoungBoy Never Broke Again'],\n",
       " ['114', 'Blurryface', 'twenty one pilots'],\n",
       " ['115', 'Freudian', 'Daniel Caesar'],\n",
       " ['116', 'Birds In The Trap Sing McKnight', 'Travis Scott'],\n",
       " ['117', 'The Beatles [White Album]', 'The Beatles'],\n",
       " ['118', 'Beauty Behind The Madness', 'The Weeknd'],\n",
       " ['119', 'ANTI', 'Rihanna'],\n",
       " ['120', 'Dangerous Woman', 'Ariana Grande'],\n",
       " ['121', 'Greatest Hits', \"Guns N' Roses\"],\n",
       " ['122', 'Signed To The Streets 3', 'Lil Durk'],\n",
       " ['123', 'Feed The Streets II', 'Roddy Ricch'],\n",
       " ['124', 'Love', 'Michael Buble'],\n",
       " ['125', '21', 'Adele'],\n",
       " ['126', 'Cry Pretty', 'Carrie Underwood'],\n",
       " ['127', 'Death Of A Bachelor', 'Panic! At The Disco'],\n",
       " ['128', 'In The Lonely Hour', 'Sam Smith'],\n",
       " ['129', \"Come Over When You're Sober, Part 2\", 'Lil Peep'],\n",
       " ['130', 'Ticket To L.A.', 'Brett Young'],\n",
       " ['131', 'good kid, m.A.A.d city', 'Kendrick Lamar'],\n",
       " ['132', 'Die Lit', 'Playboi Carti'],\n",
       " ['133', 'Thriller', 'Michael Jackson'],\n",
       " ['134', '25', 'Adele'],\n",
       " ['135', '1', 'The Beatles'],\n",
       " ['136', '13 Reasons Why, Season 2', 'Soundtrack'],\n",
       " ['137', 'BALLADS 1', 'Joji'],\n",
       " ['138', 'Abbey Road', 'The Beatles'],\n",
       " ['139', 'Trolls', 'Soundtrack'],\n",
       " ['140', 'Golden Hour', 'Kacey Musgraves'],\n",
       " ['141', 'Greatest Hits', 'The Notorious B.I.G.'],\n",
       " ['142', 'Greatest Hits', 'Fleetwood Mac'],\n",
       " ['143', 'The Very Best Of Prince', 'Prince'],\n",
       " ['144', 'The Essential R. Kelly', 'R. Kelly'],\n",
       " ['145', 'Frozen', 'Soundtrack'],\n",
       " ['146', 'Illuminate', 'Shawn Mendes'],\n",
       " ['147', 'Doo-Wops & Hooligans', 'Bruno Mars'],\n",
       " ['148', 'Project Baby Two', 'Kodak Black'],\n",
       " ['149', 'Nothing Was The Same', 'Drake'],\n",
       " ['150', 'The Beautiful & Damned', 'G-Eazy'],\n",
       " ['151', 'Gold -- Greatest Hits', 'ABBA'],\n",
       " ['152', 'Odisea', 'Ozuna'],\n",
       " ['153', 'Drip Season 3', 'Gunna'],\n",
       " ['154', 'A Brief Inquiry Into Online Relationships', 'The 1975'],\n",
       " ['155', 'California Sunrise', 'Jon Pardi'],\n",
       " ['156', 'All Time Greatest Hits', 'Lynyrd Skynyrd'],\n",
       " ['157', 'T R A P S O U L', 'Bryson Tiller'],\n",
       " ['158', 'The Essential Elvis Presley', 'Elvis Presley'],\n",
       " ['159', 'Badlands', 'Halsey'],\n",
       " ['160', 'Hot Rocks 1964-1971', 'The Rolling Stones'],\n",
       " ['161', 'Back In Black', 'AC/DC'],\n",
       " ['162', 'Famous Cryp', 'Blueface'],\n",
       " ['163', 'How Can It Be', 'Lauren Daigle'],\n",
       " ['164', 'Icarus Falls', 'Zayn'],\n",
       " ['165', 'Red', 'Taylor Swift'],\n",
       " ['166', 'Metallica', 'Metallica'],\n",
       " ['167', 'Blonde', 'Frank Ocean'],\n",
       " ['168', 'Stay Dangerous', 'YG'],\n",
       " ['169',\n",
       "  'The 50 Greatest Pieces Of Classical Music',\n",
       "  'London Philharmonic Orchestra'],\n",
       " ['170', 'I met you when I was 18. (the playlist)', 'Lauv'],\n",
       " ['171', 'Nevermind', 'Nirvana'],\n",
       " ['172', 'The Click', 'AJR'],\n",
       " ['173', 'Culture', 'Migos'],\n",
       " ['174', 'Last Day Of Summer', 'Summer Walker'],\n",
       " ['175', 'YBN: The Mixtape', 'YBN Nahmir, YBN Almighty Jay & YBN Cordae'],\n",
       " ['176', 'Real Hasta La Muerte', 'Anuel AA'],\n",
       " ['177', 'The Fame', 'Lady Gaga'],\n",
       " ['178', 'A Decade Of Destruction', 'Five Finger Death Punch'],\n",
       " ['179', 'From A Room: Volume 1', 'Chris Stapleton'],\n",
       " ['180', 'Greatest Hits So Far...', 'Zac Brown Band'],\n",
       " ['181', 'Tell Me You Love Me', 'Demi Lovato'],\n",
       " ['182', 'The Last Rocket', 'TakeOff'],\n",
       " ['183', 'Anthem Of The Peaceful Army', 'Greta Van Fleet'],\n",
       " ['184', 'Without Warning', '21 Savage, Offset & Metro Boomin'],\n",
       " ['185', 'Mercury Lane', 'Jimmie Allen'],\n",
       " ['186', 'The Thrill Of It All', 'Sam Smith'],\n",
       " ['187', 'Desperate Man', 'Eric Church'],\n",
       " ['188', '4275', 'Jacquees'],\n",
       " ['189', 'Purpose', 'Justin Bieber'],\n",
       " ['190', \"There's Really A Wolf\", 'Russ'],\n",
       " ['191', 'Greatest Hits: The Ultimate Collection', 'Bon Jovi'],\n",
       " ['192', 'I Am You', 'YNW Melly'],\n",
       " ['193', 'Dig Your Roots', 'Florida Georgia Line'],\n",
       " ['194', \"Nuthin' 2 Prove\", 'Lil Yachty'],\n",
       " ['195', 'My Dear Melancholy, (EP)', 'The Weeknd'],\n",
       " ['196', 'The Story So Far.The Best Of Def Leppard', 'Def Leppard'],\n",
       " ['197', 'Nothing But The Best', 'Frank Sinatra'],\n",
       " ['198', 'Testing', 'A$AP Rocky'],\n",
       " ['199', 'Evolution', 'Disturbed'],\n",
       " ['200', 'Hozier', 'Hozier']]"
      ]
     },
     "execution_count": 9,
     "metadata": {},
     "output_type": "execute_result"
    }
   ],
   "source": [
    "result_list = []\n",
    "i = 0\n",
    "\n",
    "first_song = ch_driver.find_element_by_class_name('chart-number-one__details')\n",
    "rank = '1'\n",
    "title = first_song.find_element_by_class_name('chart-number-one__title').text\n",
    "artist = first_song.find_element_by_class_name('chart-number-one__artist').text\n",
    "\n",
    "result_list.append([rank, title, artist])\n",
    "\n",
    "chart_list = ch_driver.find_elements_by_class_name('chart-list-item')\n",
    "for item in chart_list:\n",
    "    rank = item.get_attribute('data-rank')\n",
    "    title = item.get_attribute('data-title')\n",
    "    artist = item.get_attribute('data-artist')\n",
    "    \n",
    "    result_list.append([rank, title, artist])\n",
    "\n",
    "# for check\n",
    "#result_list\n",
    "\n"
   ]
  },
  {
   "cell_type": "markdown",
   "metadata": {},
   "source": [
    "## With BeautifulSoup"
   ]
  },
  {
   "cell_type": "code",
   "execution_count": 3,
   "metadata": {},
   "outputs": [],
   "source": [
    "date = '2019-01-19'\n",
    "billboard_url = 'https://www.billboard.com/charts/billboard-200/'\n",
    "\n",
    "response = requests.get(billboard_url + date)\n",
    "bb_html = response.text\n",
    "bb_soup = BeautifulSoup(bb_html, 'lxml')"
   ]
  },
  {
   "cell_type": "code",
   "execution_count": 4,
   "metadata": {},
   "outputs": [
    {
     "name": "stdout",
     "output_type": "stream",
     "text": [
      "1, Hoodie SZN, A Boogie Wit da Hoodie\n"
     ]
    }
   ],
   "source": [
    "# for the first-place ranked song\n",
    "rank = '1'\n",
    "title = bb_soup.find('div', attrs={'class': 'chart-number-one__title'}).text\n",
    "artist = bb_soup.find('div', attrs={'class': 'chart-number-one__artist'}).text.strip()\n",
    "\n",
    "print(rank, title, artist, sep=\", \")"
   ]
  },
  {
   "cell_type": "code",
   "execution_count": 5,
   "metadata": {},
   "outputs": [
    {
     "name": "stdout",
     "output_type": "stream",
     "text": [
      "2,I Am > I Was,21 Savage\n"
     ]
    }
   ],
   "source": [
    "# for the rest\n",
    "bb_divs = bb_soup.find_all('div', attrs={'class':'chart-list-item'})\n",
    "\n",
    "rank = bb_divs[0].attrs['data-rank']\n",
    "title = bb_divs[0].attrs['data-title']\n",
    "artist = bb_divs[0].attrs['data-artist']\n",
    "\n",
    "print(rank, title, artist, sep=\",\")"
   ]
  },
  {
   "cell_type": "code",
   "execution_count": 7,
   "metadata": {},
   "outputs": [],
   "source": [
    "def billboard_scraper(year, month):\n",
    "    date = str(year) + '-' + month + '-15' \n",
    "    billboard_url = 'https://www.billboard.com/charts/billboard-200/'\n",
    "    response = requests.get(billboard_url + date)\n",
    "    bb_html = response.text\n",
    "    bb_soup = BeautifulSoup(bb_html, 'lxml')\n",
    "    \n",
    "    result_list = []\n",
    "    # for the chart number one\n",
    "    rank = '1'\n",
    "    title = bb_soup.find('div', attrs={'class': 'chart-number-one__title'}).text\n",
    "    artist = bb_soup.find('div', attrs={'class': 'chart-number-one__artist'}).text.strip()\n",
    "    result_list.append((date, rank, title, artist))\n",
    "\n",
    "    #for the rest\n",
    "    bb_divs = bb_soup.find_all('div', attrs={'class':'chart-list-item'})\n",
    "\n",
    "    for item in bb_divs:\n",
    "        rank = item.attrs['data-rank']\n",
    "        title = item.attrs['data-title']\n",
    "        artist = item.attrs['data-artist']\n",
    "\n",
    "        result_list.append((date, rank, title, artist))\n",
    "\n",
    "    return result_list"
   ]
  },
  {
   "cell_type": "code",
   "execution_count": 8,
   "metadata": {},
   "outputs": [],
   "source": [
    "def get_all_billboard():\n",
    "    month = '01'\n",
    "    month_list = ['01','02','03','04','05','06','07','08','09','10','11','12']\n",
    "    billboard_list = []\n",
    "\n",
    "    for year in range(2017, 2018+1):\n",
    "        for month in month_list:\n",
    "            billboard_list.extend(billboard_scraper(year, month))\n",
    "\n",
    "    return billboard_list\n",
    "\n",
    "# ('2017-01-15', 'rank', title', 'artist')"
   ]
  },
  {
   "cell_type": "markdown",
   "metadata": {},
   "source": [
    "# Make a Table for Billboard Chart "
   ]
  },
  {
   "cell_type": "markdown",
   "metadata": {},
   "source": [
    "- Create chart.db with sqlite3<br/>\n",
    "`.open chart_research.db`<br/>\n",
    "- Move Database to the project folder"
   ]
  },
  {
   "cell_type": "code",
   "execution_count": 9,
   "metadata": {},
   "outputs": [],
   "source": [
    "result_list = get_all_billboard()\n",
    "db = lite.connect('./chart_research.db')"
   ]
  },
  {
   "cell_type": "code",
   "execution_count": 18,
   "metadata": {},
   "outputs": [],
   "source": [
    "pd.options.display.max_colwidth = 300"
   ]
  },
  {
   "cell_type": "code",
   "execution_count": 10,
   "metadata": {},
   "outputs": [
    {
     "data": {
      "text/plain": [
       "4800"
      ]
     },
     "execution_count": 10,
     "metadata": {},
     "output_type": "execute_result"
    }
   ],
   "source": [
    "len(result_list)"
   ]
  },
  {
   "cell_type": "code",
   "execution_count": 11,
   "metadata": {},
   "outputs": [
    {
     "data": {
      "text/plain": [
       "('2017-01-15', '1', 'Starboy', 'The Weeknd')"
      ]
     },
     "execution_count": 11,
     "metadata": {},
     "output_type": "execute_result"
    }
   ],
   "source": [
    "result_list[0]"
   ]
  },
  {
   "cell_type": "code",
   "execution_count": 15,
   "metadata": {},
   "outputs": [],
   "source": [
    "query_create_table = \"\"\"\n",
    "CREATE TABLE IF NOT EXISTS\n",
    "Billboard\n",
    "(\"Date\" TEXT,\n",
    "\"Rank\" TEXT,\n",
    "\"Title\" TEXT,\n",
    "\"Artist\" TEXT);\n",
    "\"\"\"\n",
    "\n",
    "query_insert_data = \"\"\"\n",
    "INSERT INTO Billboard VALUES(?,?,?,?);\n",
    "\"\"\"\n",
    "\n",
    "with db:\n",
    "    cur = db.cursor()\n",
    "    cur.execute(query_create_table)\n",
    "    for row in result_list:\n",
    "        cur.execute(query_insert_data,row)"
   ]
  },
  {
   "cell_type": "code",
   "execution_count": 29,
   "metadata": {},
   "outputs": [
    {
     "data": {
      "text/html": [
       "<div>\n",
       "<style scoped>\n",
       "    .dataframe tbody tr th:only-of-type {\n",
       "        vertical-align: middle;\n",
       "    }\n",
       "\n",
       "    .dataframe tbody tr th {\n",
       "        vertical-align: top;\n",
       "    }\n",
       "\n",
       "    .dataframe thead th {\n",
       "        text-align: right;\n",
       "    }\n",
       "</style>\n",
       "<table border=\"1\" class=\"dataframe\">\n",
       "  <thead>\n",
       "    <tr style=\"text-align: right;\">\n",
       "      <th></th>\n",
       "      <th>Month</th>\n",
       "      <th>Rank</th>\n",
       "      <th>Title</th>\n",
       "      <th>Artist</th>\n",
       "    </tr>\n",
       "  </thead>\n",
       "  <tbody>\n",
       "    <tr>\n",
       "      <th>0</th>\n",
       "      <td>2017-01</td>\n",
       "      <td>1</td>\n",
       "      <td>Starboy</td>\n",
       "      <td>The Weeknd</td>\n",
       "    </tr>\n",
       "    <tr>\n",
       "      <th>1</th>\n",
       "      <td>2017-01</td>\n",
       "      <td>2</td>\n",
       "      <td>Moana</td>\n",
       "      <td>Soundtrack</td>\n",
       "    </tr>\n",
       "    <tr>\n",
       "      <th>2</th>\n",
       "      <td>2017-01</td>\n",
       "      <td>3</td>\n",
       "      <td>24K Magic</td>\n",
       "      <td>Bruno Mars</td>\n",
       "    </tr>\n",
       "    <tr>\n",
       "      <th>3</th>\n",
       "      <td>2017-01</td>\n",
       "      <td>4</td>\n",
       "      <td>Views</td>\n",
       "      <td>Drake</td>\n",
       "    </tr>\n",
       "    <tr>\n",
       "      <th>4</th>\n",
       "      <td>2017-01</td>\n",
       "      <td>5</td>\n",
       "      <td>4 Your Eyez Only</td>\n",
       "      <td>J. Cole</td>\n",
       "    </tr>\n",
       "  </tbody>\n",
       "</table>\n",
       "</div>"
      ],
      "text/plain": [
       "     Month Rank             Title      Artist\n",
       "0  2017-01    1           Starboy  The Weeknd\n",
       "1  2017-01    2             Moana  Soundtrack\n",
       "2  2017-01    3         24K Magic  Bruno Mars\n",
       "3  2017-01    4             Views       Drake\n",
       "4  2017-01    5  4 Your Eyez Only     J. Cole"
      ]
     },
     "execution_count": 29,
     "metadata": {},
     "output_type": "execute_result"
    }
   ],
   "source": [
    "query = \"\"\"\n",
    "SELECT \n",
    "    substr(date, 1, 7) \"Month\",\n",
    "    Rank,\n",
    "    Title,\n",
    "    Artist\n",
    "FROM\n",
    "    Billboard\n",
    ";\n",
    "\"\"\"\n",
    "\n",
    "pd.read_sql(query, db).head()"
   ]
  }
 ],
 "metadata": {
  "kernelspec": {
   "display_name": "Python 3",
   "language": "python",
   "name": "python3"
  },
  "language_info": {
   "codemirror_mode": {
    "name": "ipython",
    "version": 3
   },
   "file_extension": ".py",
   "mimetype": "text/x-python",
   "name": "python",
   "nbconvert_exporter": "python",
   "pygments_lexer": "ipython3",
   "version": "3.7.1"
  }
 },
 "nbformat": 4,
 "nbformat_minor": 2
}
