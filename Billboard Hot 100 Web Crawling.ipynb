{
 "cells": [
  {
   "cell_type": "code",
   "execution_count": 1,
   "metadata": {},
   "outputs": [],
   "source": [
    "import requests\n",
    "from bs4 import BeautifulSoup\n",
    "import lxml\n",
    "import sqlite3 as lite\n",
    "import pandas as pd"
   ]
  },
  {
   "cell_type": "code",
   "execution_count": 3,
   "metadata": {},
   "outputs": [],
   "source": [
    "date = '2019-01-19'\n",
    "hot_url = 'https://www.billboard.com/charts/hot-100/'\n",
    "hot_html = requests.get(hot_url + date).text\n",
    "hot_soup = BeautifulSoup(hot_html, 'lxml')"
   ]
  },
  {
   "cell_type": "code",
   "execution_count": 13,
   "metadata": {},
   "outputs": [
    {
     "name": "stdout",
     "output_type": "stream",
     "text": [
      "1,Sunflower (Spider-Man: Into The Spider-Verse),Post Malone & Swae Lee\n"
     ]
    }
   ],
   "source": [
    "# for the first ranked song\n",
    "rank = '1'\n",
    "title = hot_soup.find('div', attrs={'class':'chart-number-one__title'}).text\n",
    "artist = hot_soup.find('div', attrs={'class': 'chart-number-one__artist'}).text.strip('\\n')\n",
    "\n",
    "print(rank, title, artist, sep=\",\")"
   ]
  },
  {
   "cell_type": "code",
   "execution_count": 20,
   "metadata": {},
   "outputs": [],
   "source": [
    "# for the rest\n",
    "chart_list = hot_soup.find_all('div', attrs={'class': 'chart-list-item'})\n",
    "\n",
    "rank = chart_list[0].attrs['data-rank'] \n",
    "title = chart_list[0].attrs['data-title']\n",
    "artist = chart_list[0].attrs['data-artist']"
   ]
  },
  {
   "cell_type": "code",
   "execution_count": 21,
   "metadata": {},
   "outputs": [],
   "source": [
    "def hot_scraper(year, month):\n",
    "    date = str(year) + '-' + month\n",
    "    hot_url = hot_url = 'https://www.billboard.com/charts/hot-100/'\n",
    "    hot_html = requests.get(hot_url + date + '-15').text\n",
    "    hot_soup = BeautifulSoup(hot_html, 'lxml')\n",
    "    \n",
    "    result_list = []\n",
    "    #for the chart number one\n",
    "    rank = '1'\n",
    "    title = hot_soup.find('div', attrs={'class':'chart-number-one__title'}).text\n",
    "    artist = hot_soup.find('div', attrs={'class': 'chart-number-one__artist'}).text.strip('\\n')\n",
    "    result_list.append((date, rank, title, artist))\n",
    "    \n",
    "    #for the rest\n",
    "    chart_list = hot_soup.find_all('div', attrs={'class': 'chart-list-item'})\n",
    "    for chart in chart_list:\n",
    "        rank = chart.attrs['data-rank'] \n",
    "        title = chart.attrs['data-title']\n",
    "        artist = chart.attrs['data-artist']\n",
    "        \n",
    "        result_list.append((date, rank, title, artist))\n",
    "        \n",
    "    return result_list"
   ]
  },
  {
   "cell_type": "code",
   "execution_count": 22,
   "metadata": {},
   "outputs": [],
   "source": [
    "def get_all_hot():\n",
    "    month = '01'\n",
    "    month_list = ['01','02','03','04','05','06','07','08','09','10','11','12']\n",
    "    hot_list = []\n",
    "    \n",
    "    for year in range(2017, 2018+1):\n",
    "        for month in month_list:\n",
    "            hot_list.extend(hot_scraper(year, month))\n",
    "            \n",
    "    return hot_list"
   ]
  },
  {
   "cell_type": "code",
   "execution_count": 24,
   "metadata": {},
   "outputs": [],
   "source": [
    "result_list = get_all_hot()"
   ]
  },
  {
   "cell_type": "code",
   "execution_count": 25,
   "metadata": {},
   "outputs": [],
   "source": [
    "db = lite.connect('./chart_research.db')"
   ]
  },
  {
   "cell_type": "code",
   "execution_count": 26,
   "metadata": {},
   "outputs": [],
   "source": [
    "pd.options.display.max_colwidth = 300"
   ]
  },
  {
   "cell_type": "code",
   "execution_count": 27,
   "metadata": {},
   "outputs": [
    {
     "data": {
      "text/plain": [
       "2400"
      ]
     },
     "execution_count": 27,
     "metadata": {},
     "output_type": "execute_result"
    }
   ],
   "source": [
    "len(result_list)"
   ]
  },
  {
   "cell_type": "code",
   "execution_count": 28,
   "metadata": {},
   "outputs": [
    {
     "data": {
      "text/plain": [
       "('2017-01', '1', 'Bad And Boujee', 'Migos Featuring Lil Uzi Vert')"
      ]
     },
     "execution_count": 28,
     "metadata": {},
     "output_type": "execute_result"
    }
   ],
   "source": [
    "result_list[0]"
   ]
  },
  {
   "cell_type": "code",
   "execution_count": 30,
   "metadata": {},
   "outputs": [],
   "source": [
    "query_create_table = \"\"\"\n",
    "CREATE TABLE IF NOT EXISTS\n",
    "Hot100\n",
    "(\"Date\" TEXT,\n",
    "\"Rank\" TEXT,\n",
    "\"Title\" TEXT,\n",
    "\"Artist\" TEXT);\n",
    "\"\"\"\n",
    "\n",
    "query_insert_data = \"\"\"\n",
    "INSERT INTO Hot100 VALUES(?,?,?,?);\n",
    "\"\"\"\n",
    "\n",
    "with db:\n",
    "    cur = db.cursor()\n",
    "    cur.execute(query_create_table)\n",
    "    for row in result_list:\n",
    "        cur.execute(query_insert_data, row)"
   ]
  },
  {
   "cell_type": "code",
   "execution_count": 31,
   "metadata": {},
   "outputs": [
    {
     "data": {
      "text/html": [
       "<div>\n",
       "<style scoped>\n",
       "    .dataframe tbody tr th:only-of-type {\n",
       "        vertical-align: middle;\n",
       "    }\n",
       "\n",
       "    .dataframe tbody tr th {\n",
       "        vertical-align: top;\n",
       "    }\n",
       "\n",
       "    .dataframe thead th {\n",
       "        text-align: right;\n",
       "    }\n",
       "</style>\n",
       "<table border=\"1\" class=\"dataframe\">\n",
       "  <thead>\n",
       "    <tr style=\"text-align: right;\">\n",
       "      <th></th>\n",
       "      <th>Date</th>\n",
       "      <th>Rank</th>\n",
       "      <th>Title</th>\n",
       "      <th>Artist</th>\n",
       "    </tr>\n",
       "  </thead>\n",
       "  <tbody>\n",
       "    <tr>\n",
       "      <th>0</th>\n",
       "      <td>2017-01</td>\n",
       "      <td>1</td>\n",
       "      <td>Bad And Boujee</td>\n",
       "      <td>Migos Featuring Lil Uzi Vert</td>\n",
       "    </tr>\n",
       "    <tr>\n",
       "      <th>1</th>\n",
       "      <td>2017-01</td>\n",
       "      <td>2</td>\n",
       "      <td>Black Beatles</td>\n",
       "      <td>Rae Sremmurd Featuring Gucci Mane</td>\n",
       "    </tr>\n",
       "    <tr>\n",
       "      <th>2</th>\n",
       "      <td>2017-01</td>\n",
       "      <td>3</td>\n",
       "      <td>Closer</td>\n",
       "      <td>The Chainsmokers Featuring Halsey</td>\n",
       "    </tr>\n",
       "    <tr>\n",
       "      <th>3</th>\n",
       "      <td>2017-01</td>\n",
       "      <td>4</td>\n",
       "      <td>Starboy</td>\n",
       "      <td>The Weeknd Featuring Daft Punk</td>\n",
       "    </tr>\n",
       "    <tr>\n",
       "      <th>4</th>\n",
       "      <td>2017-01</td>\n",
       "      <td>5</td>\n",
       "      <td>24K Magic</td>\n",
       "      <td>Bruno Mars</td>\n",
       "    </tr>\n",
       "  </tbody>\n",
       "</table>\n",
       "</div>"
      ],
      "text/plain": [
       "      Date Rank           Title                             Artist\n",
       "0  2017-01    1  Bad And Boujee       Migos Featuring Lil Uzi Vert\n",
       "1  2017-01    2   Black Beatles  Rae Sremmurd Featuring Gucci Mane\n",
       "2  2017-01    3          Closer  The Chainsmokers Featuring Halsey\n",
       "3  2017-01    4         Starboy     The Weeknd Featuring Daft Punk\n",
       "4  2017-01    5       24K Magic                         Bruno Mars"
      ]
     },
     "execution_count": 31,
     "metadata": {},
     "output_type": "execute_result"
    }
   ],
   "source": [
    "# for check\n",
    "query = \"\"\"\n",
    "SELECT * FROM Hot100; \n",
    "\"\"\"\n",
    "\n",
    "pd.read_sql(query, db).head()"
   ]
  },
  {
   "cell_type": "code",
   "execution_count": null,
   "metadata": {},
   "outputs": [],
   "source": []
  }
 ],
 "metadata": {
  "kernelspec": {
   "display_name": "Python 3",
   "language": "python",
   "name": "python3"
  },
  "language_info": {
   "codemirror_mode": {
    "name": "ipython",
    "version": 3
   },
   "file_extension": ".py",
   "mimetype": "text/x-python",
   "name": "python",
   "nbconvert_exporter": "python",
   "pygments_lexer": "ipython3",
   "version": "3.7.1"
  }
 },
 "nbformat": 4,
 "nbformat_minor": 2
}
